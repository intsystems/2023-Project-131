{
 "metadata": {
  "kernelspec": {
   "language": "python",
   "display_name": "Python 3",
   "name": "python3"
  },
  "language_info": {
   "name": "python",
   "version": "3.7.12",
   "mimetype": "text/x-python",
   "codemirror_mode": {
    "name": "ipython",
    "version": 3
   },
   "pygments_lexer": "ipython3",
   "nbconvert_exporter": "python",
   "file_extension": ".py"
  }
 },
 "nbformat_minor": 4,
 "nbformat": 4,
 "cells": [
  {
   "cell_type": "code",
   "source": [
    "!pip install topicnet\n",
    "!pip install bigartm\n",
    "!pip install pymorphy2"
   ],
   "metadata": {
    "_uuid": "8f2839f25d086af736a60e9eeb907d3b93b6e0e5",
    "_cell_guid": "b1076dfc-b9ad-4769-8c92-a6c4dae69d19",
    "execution": {
     "iopub.status.busy": "2023-04-05T11:31:15.711739Z",
     "iopub.execute_input": "2023-04-05T11:31:15.712313Z",
     "iopub.status.idle": "2023-04-05T11:31:57.451687Z",
     "shell.execute_reply.started": "2023-04-05T11:31:15.712175Z",
     "shell.execute_reply": "2023-04-05T11:31:57.449643Z"
    },
    "trusted": true
   },
   "execution_count": 1,
   "outputs": [
    {
     "name": "stdout",
     "text": "Collecting topicnet\n  Downloading topicnet-0.8.0.tar.gz (104 kB)\n\u001b[2K     \u001b[90m━━━━━━━━━━━━━━━━━━━━━━━━━━━━━━━━━━━━━━━\u001b[0m \u001b[32m104.7/104.7 kB\u001b[0m \u001b[31m5.9 MB/s\u001b[0m eta \u001b[36m0:00:00\u001b[0m\n\u001b[?25h  Preparing metadata (setup.py) ... \u001b[?25ldone\n\u001b[?25hCollecting bigartm\n  Downloading bigartm-0.9.2-cp37-cp37m-manylinux1_x86_64.whl (1.9 MB)\n\u001b[2K     \u001b[90m━━━━━━━━━━━━━━━━━━━━━━━━━━━━━━━━━━━━━━━━\u001b[0m \u001b[32m1.9/1.9 MB\u001b[0m \u001b[31m10.2 MB/s\u001b[0m eta \u001b[36m0:00:00\u001b[0m00:01\u001b[0m:00:01\u001b[0m\n\u001b[?25hRequirement already satisfied: colorlover in /opt/conda/lib/python3.7/site-packages (from topicnet) (0.3.0)\nRequirement already satisfied: dask[dataframe] in /opt/conda/lib/python3.7/site-packages (from topicnet) (2022.2.0)\nRequirement already satisfied: dill in /opt/conda/lib/python3.7/site-packages (from topicnet) (0.3.6)\nRequirement already satisfied: ipython in /opt/conda/lib/python3.7/site-packages (from topicnet) (7.34.0)\nRequirement already satisfied: jinja2 in /opt/conda/lib/python3.7/site-packages (from topicnet) (3.1.2)\nRequirement already satisfied: numba in /opt/conda/lib/python3.7/site-packages (from topicnet) (0.56.4)\nRequirement already satisfied: numexpr in /opt/conda/lib/python3.7/site-packages (from topicnet) (2.8.4)\nRequirement already satisfied: numpy in /opt/conda/lib/python3.7/site-packages (from topicnet) (1.21.6)\nRequirement already satisfied: pandas in /opt/conda/lib/python3.7/site-packages (from topicnet) (1.3.5)\nRequirement already satisfied: plotly in /opt/conda/lib/python3.7/site-packages (from topicnet) (5.13.0)\nRequirement already satisfied: pytest in /opt/conda/lib/python3.7/site-packages (from topicnet) (7.2.1)\nRequirement already satisfied: scikit-learn in /opt/conda/lib/python3.7/site-packages (from topicnet) (1.0.2)\nRequirement already satisfied: scipy in /opt/conda/lib/python3.7/site-packages (from topicnet) (1.7.3)\nRequirement already satisfied: six in /opt/conda/lib/python3.7/site-packages (from topicnet) (1.16.0)\nCollecting strictyaml\n  Downloading strictyaml-1.7.3-py3-none-any.whl (123 kB)\n\u001b[2K     \u001b[90m━━━━━━━━━━━━━━━━━━━━━━━━━━━━━━━━━━━━━━\u001b[0m \u001b[32m123.9/123.9 kB\u001b[0m \u001b[31m10.4 MB/s\u001b[0m eta \u001b[36m0:00:00\u001b[0m\n\u001b[?25hRequirement already satisfied: toolz in /opt/conda/lib/python3.7/site-packages (from topicnet) (0.11.2)\nRequirement already satisfied: tqdm in /opt/conda/lib/python3.7/site-packages (from topicnet) (4.64.1)\nRequirement already satisfied: protobuf>=3.0 in /opt/conda/lib/python3.7/site-packages (from bigartm->topicnet) (3.20.3)\nRequirement already satisfied: packaging>=20.0 in /opt/conda/lib/python3.7/site-packages (from dask[dataframe]->topicnet) (23.0)\nRequirement already satisfied: partd>=0.3.10 in /opt/conda/lib/python3.7/site-packages (from dask[dataframe]->topicnet) (1.3.0)\nRequirement already satisfied: fsspec>=0.6.0 in /opt/conda/lib/python3.7/site-packages (from dask[dataframe]->topicnet) (2023.1.0)\nRequirement already satisfied: pyyaml>=5.3.1 in /opt/conda/lib/python3.7/site-packages (from dask[dataframe]->topicnet) (6.0)\nRequirement already satisfied: cloudpickle>=1.1.1 in /opt/conda/lib/python3.7/site-packages (from dask[dataframe]->topicnet) (2.2.1)\nRequirement already satisfied: pytz>=2017.3 in /opt/conda/lib/python3.7/site-packages (from pandas->topicnet) (2022.7.1)\nRequirement already satisfied: python-dateutil>=2.7.3 in /opt/conda/lib/python3.7/site-packages (from pandas->topicnet) (2.8.2)\nRequirement already satisfied: decorator in /opt/conda/lib/python3.7/site-packages (from ipython->topicnet) (5.1.1)\nRequirement already satisfied: pygments in /opt/conda/lib/python3.7/site-packages (from ipython->topicnet) (2.14.0)\nRequirement already satisfied: jedi>=0.16 in /opt/conda/lib/python3.7/site-packages (from ipython->topicnet) (0.18.2)\nRequirement already satisfied: traitlets>=4.2 in /opt/conda/lib/python3.7/site-packages (from ipython->topicnet) (5.8.1)\nRequirement already satisfied: pexpect>4.3 in /opt/conda/lib/python3.7/site-packages (from ipython->topicnet) (4.8.0)\nRequirement already satisfied: setuptools>=18.5 in /opt/conda/lib/python3.7/site-packages (from ipython->topicnet) (59.8.0)\nRequirement already satisfied: pickleshare in /opt/conda/lib/python3.7/site-packages (from ipython->topicnet) (0.7.5)\nRequirement already satisfied: prompt-toolkit!=3.0.0,!=3.0.1,<3.1.0,>=2.0.0 in /opt/conda/lib/python3.7/site-packages (from ipython->topicnet) (3.0.36)\nRequirement already satisfied: matplotlib-inline in /opt/conda/lib/python3.7/site-packages (from ipython->topicnet) (0.1.6)\nRequirement already satisfied: backcall in /opt/conda/lib/python3.7/site-packages (from ipython->topicnet) (0.2.0)\nRequirement already satisfied: MarkupSafe>=2.0 in /opt/conda/lib/python3.7/site-packages (from jinja2->topicnet) (2.1.1)\nRequirement already satisfied: importlib-metadata in /opt/conda/lib/python3.7/site-packages (from numba->topicnet) (4.11.4)\nRequirement already satisfied: llvmlite<0.40,>=0.39.0dev0 in /opt/conda/lib/python3.7/site-packages (from numba->topicnet) (0.39.1)\nRequirement already satisfied: tenacity>=6.2.0 in /opt/conda/lib/python3.7/site-packages (from plotly->topicnet) (8.1.0)\nRequirement already satisfied: pluggy<2.0,>=0.12 in /opt/conda/lib/python3.7/site-packages (from pytest->topicnet) (1.0.0)\nRequirement already satisfied: exceptiongroup>=1.0.0rc8 in /opt/conda/lib/python3.7/site-packages (from pytest->topicnet) (1.1.0)\nRequirement already satisfied: iniconfig in /opt/conda/lib/python3.7/site-packages (from pytest->topicnet) (2.0.0)\nRequirement already satisfied: attrs>=19.2.0 in /opt/conda/lib/python3.7/site-packages (from pytest->topicnet) (22.2.0)\nRequirement already satisfied: tomli>=1.0.0 in /opt/conda/lib/python3.7/site-packages (from pytest->topicnet) (2.0.1)\nRequirement already satisfied: joblib>=0.11 in /opt/conda/lib/python3.7/site-packages (from scikit-learn->topicnet) (1.2.0)\nRequirement already satisfied: threadpoolctl>=2.0.0 in /opt/conda/lib/python3.7/site-packages (from scikit-learn->topicnet) (3.1.0)\nRequirement already satisfied: typing-extensions>=3.6.4 in /opt/conda/lib/python3.7/site-packages (from importlib-metadata->numba->topicnet) (4.4.0)\nRequirement already satisfied: zipp>=0.5 in /opt/conda/lib/python3.7/site-packages (from importlib-metadata->numba->topicnet) (3.11.0)\nRequirement already satisfied: parso<0.9.0,>=0.8.0 in /opt/conda/lib/python3.7/site-packages (from jedi>=0.16->ipython->topicnet) (0.8.3)\nRequirement already satisfied: locket in /opt/conda/lib/python3.7/site-packages (from partd>=0.3.10->dask[dataframe]->topicnet) (1.0.0)\nRequirement already satisfied: ptyprocess>=0.5 in /opt/conda/lib/python3.7/site-packages (from pexpect>4.3->ipython->topicnet) (0.7.0)\nRequirement already satisfied: wcwidth in /opt/conda/lib/python3.7/site-packages (from prompt-toolkit!=3.0.0,!=3.0.1,<3.1.0,>=2.0.0->ipython->topicnet) (0.2.6)\nBuilding wheels for collected packages: topicnet\n  Building wheel for topicnet (setup.py) ... \u001b[?25ldone\n\u001b[?25h  Created wheel for topicnet: filename=topicnet-0.8.0-py3-none-any.whl size=134578 sha256=daa319c286ff12b107adebadfc669d7e84c100a4d3f4bafb69fc5b7e429184ee\n  Stored in directory: /root/.cache/pip/wheels/c9/b9/4e/80a7bf4d79ad575dfe37c8a11fba7edd5992b8ec0c59784139\nSuccessfully built topicnet\nInstalling collected packages: strictyaml, bigartm, topicnet\nSuccessfully installed bigartm-0.9.2 strictyaml-1.7.3 topicnet-0.8.0\n\u001b[33mWARNING: Running pip as the 'root' user can result in broken permissions and conflicting behaviour with the system package manager. It is recommended to use a virtual environment instead: https://pip.pypa.io/warnings/venv\u001b[0m\u001b[33m\n\u001b[0mRequirement already satisfied: bigartm in /opt/conda/lib/python3.7/site-packages (0.9.2)\nRequirement already satisfied: numpy in /opt/conda/lib/python3.7/site-packages (from bigartm) (1.21.6)\nRequirement already satisfied: tqdm in /opt/conda/lib/python3.7/site-packages (from bigartm) (4.64.1)\nRequirement already satisfied: pandas in /opt/conda/lib/python3.7/site-packages (from bigartm) (1.3.5)\nRequirement already satisfied: protobuf>=3.0 in /opt/conda/lib/python3.7/site-packages (from bigartm) (3.20.3)\nRequirement already satisfied: python-dateutil>=2.7.3 in /opt/conda/lib/python3.7/site-packages (from pandas->bigartm) (2.8.2)\nRequirement already satisfied: pytz>=2017.3 in /opt/conda/lib/python3.7/site-packages (from pandas->bigartm) (2022.7.1)\nRequirement already satisfied: six>=1.5 in /opt/conda/lib/python3.7/site-packages (from python-dateutil>=2.7.3->pandas->bigartm) (1.16.0)\n\u001b[33mWARNING: Running pip as the 'root' user can result in broken permissions and conflicting behaviour with the system package manager. It is recommended to use a virtual environment instead: https://pip.pypa.io/warnings/venv\u001b[0m\u001b[33m\n\u001b[0mCollecting pymorphy2\n  Downloading pymorphy2-0.9.1-py3-none-any.whl (55 kB)\n\u001b[2K     \u001b[90m━━━━━━━━━━━━━━━━━━━━━━━━━━━━━━━━━━━━━━━━\u001b[0m \u001b[32m55.5/55.5 kB\u001b[0m \u001b[31m4.8 MB/s\u001b[0m eta \u001b[36m0:00:00\u001b[0m\n\u001b[?25hCollecting dawg-python>=0.7.1\n  Downloading DAWG_Python-0.7.2-py2.py3-none-any.whl (11 kB)\nCollecting pymorphy2-dicts-ru<3.0,>=2.4\n  Downloading pymorphy2_dicts_ru-2.4.417127.4579844-py2.py3-none-any.whl (8.2 MB)\n\u001b[2K     \u001b[90m━━━━━━━━━━━━━━━━━━━━━━━━━━━━━━━━━━━━━━━━\u001b[0m \u001b[32m8.2/8.2 MB\u001b[0m \u001b[31m60.0 MB/s\u001b[0m eta \u001b[36m0:00:00\u001b[0m00:01\u001b[0m00:01\u001b[0m\n\u001b[?25hRequirement already satisfied: docopt>=0.6 in /opt/conda/lib/python3.7/site-packages (from pymorphy2) (0.6.2)\nInstalling collected packages: pymorphy2-dicts-ru, dawg-python, pymorphy2\nSuccessfully installed dawg-python-0.7.2 pymorphy2-0.9.1 pymorphy2-dicts-ru-2.4.417127.4579844\n\u001b[33mWARNING: Running pip as the 'root' user can result in broken permissions and conflicting behaviour with the system package manager. It is recommended to use a virtual environment instead: https://pip.pypa.io/warnings/venv\u001b[0m\u001b[33m\n\u001b[0m",
     "output_type": "stream"
    }
   ]
  },
  {
   "cell_type": "code",
   "source": [
    "import artm\n",
    "\n",
    "import matplotlib.pyplot as plt\n",
    "import numpy as np\n",
    "import pandas as pd\n",
    "import seaborn as sns\n",
    "\n",
    "sns.set(style=\"darkgrid\", palette=\"Set2\")\n",
    "\n",
    "from topicnet.dataset_manager import api\n",
    "\n",
    "# topicnet imports\n",
    "from topicnet.cooking_machine.cubes import (\n",
    "    CubeCreator,\n",
    "    GreedyStrategy,\n",
    "    PerplexityStrategy,\n",
    "    RegularizationControllerCube,\n",
    "    RegularizersModifierCube,\n",
    ")\n",
    "from topicnet.cooking_machine.dataset import Dataset\n",
    "from topicnet.cooking_machine.experiment import Experiment\n",
    "from topicnet.cooking_machine.models import BaseScore\n",
    "from topicnet.cooking_machine.models.topic_model import TopicModel\n",
    "from topicnet.cooking_machine.model_constructor import add_standard_scores\n",
    "from topicnet.cooking_machine.model_constructor import init_simple_default_model\n",
    "from topicnet.cooking_machine.pretty_output import make_notebook_pretty\n",
    "from topicnet.viewers.top_documents_viewer import TopDocumentsViewer\n",
    "from topicnet.viewers.top_tokens_viewer import TopTokensViewer\n",
    "\n",
    "from IPython.display import display, display_html\n",
    "\n",
    "# for preprocessing\n",
    "import nltk\n",
    "\n",
    "from nltk.collocations import (\n",
    "    BigramAssocMeasures,\n",
    "    BigramCollocationFinder,\n",
    ")\n",
    "from nltk.corpus import (\n",
    "    stopwords,\n",
    "    wordnet,\n",
    ")\n",
    "\n",
    "nltk.download(\"wordnet\")\n",
    "nltk.download(\"omw-1.4\")\n",
    "nltk.download(\"averaged_perceptron_tagger_ru\")\n",
    "nltk.download(\"stopwords\")\n",
    "\n",
    "from nltk.stem import WordNetLemmatizer\n",
    "\n",
    "from pymorphy2 import MorphAnalyzer\n",
    "\n",
    "from collections import Counter\n",
    "\n",
    "from tqdm import tqdm\n",
    "\n",
    "from topicnet.cooking_machine.model_constructor import (\n",
    "    create_default_topics,\n",
    "    count_vocab_size,\n",
    "    init_model,\n",
    ")\n",
    "from topicnet.cooking_machine.rel_toolbox_lite import (\n",
    "    count_vocab_size,\n",
    "    modality_weight_rel2abs,\n",
    ")\n",
    "\n",
    "from typing import Dict, List\n",
    "\n",
    "from time import process_time"
   ],
   "metadata": {
    "execution": {
     "iopub.status.busy": "2023-04-05T11:31:57.456752Z",
     "iopub.execute_input": "2023-04-05T11:31:57.457232Z",
     "iopub.status.idle": "2023-04-05T11:32:01.560898Z",
     "shell.execute_reply.started": "2023-04-05T11:31:57.457175Z",
     "shell.execute_reply": "2023-04-05T11:32:01.558966Z"
    },
    "trusted": true
   },
   "execution_count": 2,
   "outputs": [
    {
     "name": "stderr",
     "text": "/opt/conda/lib/python3.7/site-packages/nltk/decorators.py:70: DeprecationWarning:\n\n`formatargspec` is deprecated since Python 3.5. Use `signature` and the `Signature` object directly\n\n",
     "output_type": "stream"
    },
    {
     "name": "stdout",
     "text": "[nltk_data] Downloading package wordnet to /usr/share/nltk_data...\n[nltk_data]   Package wordnet is already up-to-date!\n[nltk_data] Downloading package omw-1.4 to /usr/share/nltk_data...\n[nltk_data] Downloading package averaged_perceptron_tagger_ru to\n[nltk_data]     /usr/share/nltk_data...\n[nltk_data]   Unzipping taggers/averaged_perceptron_tagger_ru.zip.\n[nltk_data] Downloading package stopwords to /usr/share/nltk_data...\n[nltk_data]   Package stopwords is already up-to-date!\n",
     "output_type": "stream"
    }
   ]
  },
  {
   "cell_type": "markdown",
   "source": "# Предобработка данных\n\nСоздадим таблицу с данными по новостям с сайта lenta.ru.",
   "metadata": {}
  },
  {
   "cell_type": "code",
   "source": [
    "df_lenta = pd.read_csv(\n",
    "    \"/kaggle/input/corpus-of-russian-news-articles-from-lenta/lenta-ru-news.csv\"\n",
    ")\n",
    "df_lenta"
   ],
   "metadata": {
    "execution": {
     "iopub.status.busy": "2023-04-05T11:33:04.399514Z",
     "iopub.execute_input": "2023-04-05T11:33:04.400280Z",
     "iopub.status.idle": "2023-04-05T11:33:57.085059Z",
     "shell.execute_reply.started": "2023-04-05T11:33:04.400238Z",
     "shell.execute_reply": "2023-04-05T11:33:57.083461Z"
    },
    "trusted": true
   },
   "execution_count": 3,
   "outputs": [
    {
     "name": "stderr",
     "text": "/opt/conda/lib/python3.7/site-packages/IPython/core/interactiveshell.py:3553: DtypeWarning:\n\nColumns (3) have mixed types.Specify dtype option on import or set low_memory=False.\n\n",
     "output_type": "stream"
    },
    {
     "execution_count": 3,
     "output_type": "execute_result",
     "data": {
      "text/plain": "                                                url  \\\n0        https://lenta.ru/news/1914/09/16/hungarnn/   \n1       https://lenta.ru/news/1914/09/16/lermontov/   \n2       https://lenta.ru/news/1914/09/17/nesteroff/   \n3        https://lenta.ru/news/1914/09/17/bulldogn/   \n4            https://lenta.ru/news/1914/09/18/zver/   \n...                                             ...   \n800970      https://lenta.ru/news/2019/12/14/shnur/   \n800971       https://lenta.ru/news/2019/12/14/dolg/   \n800972  https://lenta.ru/news/2019/12/14/dark_euro/   \n800973      https://lenta.ru/news/2019/12/14/meteo/   \n800974      https://lenta.ru/news/2019/12/14/olimp/   \n\n                                                    title  \\\n0       1914. Русские войска вступили в пределы Венгрии     \n1       1914. Празднование столетия М.Ю. Лермонтова от...   \n2                                1914. Das ist Nesteroff!   \n3                         1914. Бульдог-гонец под Льежем    \n4                1914. Под Люблином пойман швабский зверь   \n...                                                   ...   \n800970          Шнуров раскритиковал Гагарину на «Голосе»   \n800971  В России предложили изменить правила взыскания...   \n800972          В России назвали «черную дату» для Европы   \n800973        Россиянам пообещали аномально теплую погоду   \n800974  В конкурсе прогнозов на АПЛ разыграют 100 тыся...   \n\n                                                     text       topic  \\\n0       Бои у Сопоцкина и Друскеник закончились отступ...  Библиотека   \n1       Министерство народного просвещения, в виду про...  Библиотека   \n2       Штабс-капитан П. Н. Нестеров на днях, увидев в...  Библиотека   \n3       Фотограф-корреспондент Daily Mirror рассказыва...  Библиотека   \n4       Лица, приехавшие в Варшаву из Люблина, передаю...  Библиотека   \n...                                                   ...         ...   \n800970  Певец Сергей Шнуров раскритиковал свою коллегу...         NaN   \n800971  Министерство юстиции России предложило изменит...         NaN   \n800972  Испытание США ранее запрещенной Договором о ли...         NaN   \n800973  В ближайшие дни в европейской части России пог...         NaN   \n800974  Ведущие футбольные чемпионаты ушли на зимние к...         NaN   \n\n                     tags        date  \n0          Первая мировая  1914/09/16  \n1          Первая мировая  1914/09/16  \n2          Первая мировая  1914/09/17  \n3          Первая мировая  1914/09/17  \n4          Первая мировая  1914/09/18  \n...                   ...         ...  \n800970         ТВ и радио  2019/12/14  \n800971                Все  2019/12/14  \n800972           Политика  2019/12/14  \n800973           Общество  2019/12/14  \n800974  Английский футбол  2019/12/14  \n\n[800975 rows x 6 columns]",
      "text/html": "<div>\n<style scoped>\n    .dataframe tbody tr th:only-of-type {\n        vertical-align: middle;\n    }\n\n    .dataframe tbody tr th {\n        vertical-align: top;\n    }\n\n    .dataframe thead th {\n        text-align: right;\n    }\n</style>\n<table border=\"1\" class=\"dataframe\">\n  <thead>\n    <tr style=\"text-align: right;\">\n      <th></th>\n      <th>url</th>\n      <th>title</th>\n      <th>text</th>\n      <th>topic</th>\n      <th>tags</th>\n      <th>date</th>\n    </tr>\n  </thead>\n  <tbody>\n    <tr>\n      <th>0</th>\n      <td>https://lenta.ru/news/1914/09/16/hungarnn/</td>\n      <td>1914. Русские войска вступили в пределы Венгрии</td>\n      <td>Бои у Сопоцкина и Друскеник закончились отступ...</td>\n      <td>Библиотека</td>\n      <td>Первая мировая</td>\n      <td>1914/09/16</td>\n    </tr>\n    <tr>\n      <th>1</th>\n      <td>https://lenta.ru/news/1914/09/16/lermontov/</td>\n      <td>1914. Празднование столетия М.Ю. Лермонтова от...</td>\n      <td>Министерство народного просвещения, в виду про...</td>\n      <td>Библиотека</td>\n      <td>Первая мировая</td>\n      <td>1914/09/16</td>\n    </tr>\n    <tr>\n      <th>2</th>\n      <td>https://lenta.ru/news/1914/09/17/nesteroff/</td>\n      <td>1914. Das ist Nesteroff!</td>\n      <td>Штабс-капитан П. Н. Нестеров на днях, увидев в...</td>\n      <td>Библиотека</td>\n      <td>Первая мировая</td>\n      <td>1914/09/17</td>\n    </tr>\n    <tr>\n      <th>3</th>\n      <td>https://lenta.ru/news/1914/09/17/bulldogn/</td>\n      <td>1914. Бульдог-гонец под Льежем</td>\n      <td>Фотограф-корреспондент Daily Mirror рассказыва...</td>\n      <td>Библиотека</td>\n      <td>Первая мировая</td>\n      <td>1914/09/17</td>\n    </tr>\n    <tr>\n      <th>4</th>\n      <td>https://lenta.ru/news/1914/09/18/zver/</td>\n      <td>1914. Под Люблином пойман швабский зверь</td>\n      <td>Лица, приехавшие в Варшаву из Люблина, передаю...</td>\n      <td>Библиотека</td>\n      <td>Первая мировая</td>\n      <td>1914/09/18</td>\n    </tr>\n    <tr>\n      <th>...</th>\n      <td>...</td>\n      <td>...</td>\n      <td>...</td>\n      <td>...</td>\n      <td>...</td>\n      <td>...</td>\n    </tr>\n    <tr>\n      <th>800970</th>\n      <td>https://lenta.ru/news/2019/12/14/shnur/</td>\n      <td>Шнуров раскритиковал Гагарину на «Голосе»</td>\n      <td>Певец Сергей Шнуров раскритиковал свою коллегу...</td>\n      <td>NaN</td>\n      <td>ТВ и радио</td>\n      <td>2019/12/14</td>\n    </tr>\n    <tr>\n      <th>800971</th>\n      <td>https://lenta.ru/news/2019/12/14/dolg/</td>\n      <td>В России предложили изменить правила взыскания...</td>\n      <td>Министерство юстиции России предложило изменит...</td>\n      <td>NaN</td>\n      <td>Все</td>\n      <td>2019/12/14</td>\n    </tr>\n    <tr>\n      <th>800972</th>\n      <td>https://lenta.ru/news/2019/12/14/dark_euro/</td>\n      <td>В России назвали «черную дату» для Европы</td>\n      <td>Испытание США ранее запрещенной Договором о ли...</td>\n      <td>NaN</td>\n      <td>Политика</td>\n      <td>2019/12/14</td>\n    </tr>\n    <tr>\n      <th>800973</th>\n      <td>https://lenta.ru/news/2019/12/14/meteo/</td>\n      <td>Россиянам пообещали аномально теплую погоду</td>\n      <td>В ближайшие дни в европейской части России пог...</td>\n      <td>NaN</td>\n      <td>Общество</td>\n      <td>2019/12/14</td>\n    </tr>\n    <tr>\n      <th>800974</th>\n      <td>https://lenta.ru/news/2019/12/14/olimp/</td>\n      <td>В конкурсе прогнозов на АПЛ разыграют 100 тыся...</td>\n      <td>Ведущие футбольные чемпионаты ушли на зимние к...</td>\n      <td>NaN</td>\n      <td>Английский футбол</td>\n      <td>2019/12/14</td>\n    </tr>\n  </tbody>\n</table>\n<p>800975 rows × 6 columns</p>\n</div>"
     },
     "metadata": {}
    }
   ]
  },
  {
   "cell_type": "markdown",
   "source": "Приводим столбец с данными в необходимый формат.",
   "metadata": {}
  },
  {
   "cell_type": "code",
   "source": [
    "df_lenta.date = pd.to_datetime(df_lenta.date)\n",
    "df_lenta.date"
   ],
   "metadata": {
    "execution": {
     "iopub.status.busy": "2023-04-05T11:33:57.087441Z",
     "iopub.execute_input": "2023-04-05T11:33:57.088132Z",
     "iopub.status.idle": "2023-04-05T11:33:57.363599Z",
     "shell.execute_reply.started": "2023-04-05T11:33:57.088080Z",
     "shell.execute_reply": "2023-04-05T11:33:57.362133Z"
    },
    "trusted": true
   },
   "execution_count": 4,
   "outputs": [
    {
     "execution_count": 4,
     "output_type": "execute_result",
     "data": {
      "text/plain": "0        1914-09-16\n1        1914-09-16\n2        1914-09-17\n3        1914-09-17\n4        1914-09-18\n            ...    \n800970   2019-12-14\n800971   2019-12-14\n800972   2019-12-14\n800973   2019-12-14\n800974   2019-12-14\nName: date, Length: 800975, dtype: datetime64[ns]"
     },
     "metadata": {}
    }
   ]
  },
  {
   "cell_type": "markdown",
   "source": "Для исследования рассмотрим все новости, опубликованные в 2008 году.",
   "metadata": {}
  },
  {
   "cell_type": "code",
   "source": [
    "df_lenta_short = df_lenta[\n",
    "    (df_lenta[\"date\"].dt.year == 2008)\n",
    "    & (df_lenta[\"date\"].dt.month >= 5)\n",
    "    & (df_lenta[\"date\"].dt.month <= 8)\n",
    "]\n",
    "df_lenta_short"
   ],
   "metadata": {
    "execution": {
     "iopub.status.busy": "2023-04-05T12:33:25.421506Z",
     "iopub.execute_input": "2023-04-05T12:33:25.421992Z",
     "iopub.status.idle": "2023-04-05T12:33:25.675734Z",
     "shell.execute_reply.started": "2023-04-05T12:33:25.421951Z",
     "shell.execute_reply": "2023-04-05T12:33:25.674489Z"
    },
    "trusted": true
   },
   "execution_count": 18,
   "outputs": [
    {
     "execution_count": 18,
     "output_type": "execute_result",
     "data": {
      "text/plain": "                                             url  \\\n227572     https://lenta.ru/news/2008/05/01/bus/   \n227573  https://lenta.ru/news/2008/05/01/sudden/   \n227574    https://lenta.ru/news/2008/05/01/bars/   \n227575  https://lenta.ru/news/2008/05/01/gisele/   \n227576     https://lenta.ru/news/2008/05/01/raf/   \n...                                          ...   \n244016  https://lenta.ru/news/2008/08/31/tennis/   \n244017   https://lenta.ru/news/2008/08/31/quake/   \n244018     https://lenta.ru/news/2008/08/31/two/   \n244019  https://lenta.ru/news/2008/08/31/pigeon/   \n244020     https://lenta.ru/news/2008/08/31/mex/   \n\n                                                    title  \\\n227572   В Египте загорелся автобус с туристами из России   \n227573  Рядовой-срочник получил \"внезапное\" ранение на...   \n227574  Бежавшая из тюрьмы американка арестована спуст...   \n227575  Жизель Бюндхен не уступила первое место в рейт...   \n227576  За год британские ВВС более 20 раз вылетали на...   \n...                                                   ...   \n244016  Динара Сафина вышла в 1/8 финала Открытого чем...   \n244017     На Байкале произошло землетрясение в 6,4 балла   \n244018  В Кабардино-Балкарии застрелили двух милиционеров   \n244019  Британцы собирались использовать голубей для д...   \n244020  В Мексике прошли акции протеста против разгула...   \n\n                                                     text     topic tags  \\\n227572  По меньшей мере семь иностранных туристов поги...       Мир  Все   \n227573  В ночь на четверг в Назрановском районе Ингуше...    Россия  Все   \n227574  Женщина, в течение 32 лет скрывавшаяся от поли...    Россия  Все   \n227575  Бразильская топ-модель Жизель Бюндхен (Gisele ...  Из жизни  Все   \n227576  Самолеты ВВС Великобритании за последний год н...       Мир  Все   \n...                                                   ...       ...  ...   \n244016  Россиянка Динара Сафина в третьем раунде Откры...     Спорт  Все   \n244017  В районе озера Байкал в ночь на воскресенье пр...       Мир  Все   \n244018  В Кабардино-Балкарии убиты два милиционера, ещ...    Россия  Все   \n244019  Британская разведывательная служба MI5 планиро...       Мир  Все   \n244020  В Мексике в субботу, 31 августа, прошли акции ...       Мир  Все   \n\n             date  \n227572 2008-05-01  \n227573 2008-05-01  \n227574 2008-05-01  \n227575 2008-05-01  \n227576 2008-05-01  \n...           ...  \n244016 2008-08-31  \n244017 2008-08-31  \n244018 2008-08-31  \n244019 2008-08-31  \n244020 2008-08-31  \n\n[16449 rows x 6 columns]",
      "text/html": "<div>\n<style scoped>\n    .dataframe tbody tr th:only-of-type {\n        vertical-align: middle;\n    }\n\n    .dataframe tbody tr th {\n        vertical-align: top;\n    }\n\n    .dataframe thead th {\n        text-align: right;\n    }\n</style>\n<table border=\"1\" class=\"dataframe\">\n  <thead>\n    <tr style=\"text-align: right;\">\n      <th></th>\n      <th>url</th>\n      <th>title</th>\n      <th>text</th>\n      <th>topic</th>\n      <th>tags</th>\n      <th>date</th>\n    </tr>\n  </thead>\n  <tbody>\n    <tr>\n      <th>227572</th>\n      <td>https://lenta.ru/news/2008/05/01/bus/</td>\n      <td>В Египте загорелся автобус с туристами из России</td>\n      <td>По меньшей мере семь иностранных туристов поги...</td>\n      <td>Мир</td>\n      <td>Все</td>\n      <td>2008-05-01</td>\n    </tr>\n    <tr>\n      <th>227573</th>\n      <td>https://lenta.ru/news/2008/05/01/sudden/</td>\n      <td>Рядовой-срочник получил \"внезапное\" ранение на...</td>\n      <td>В ночь на четверг в Назрановском районе Ингуше...</td>\n      <td>Россия</td>\n      <td>Все</td>\n      <td>2008-05-01</td>\n    </tr>\n    <tr>\n      <th>227574</th>\n      <td>https://lenta.ru/news/2008/05/01/bars/</td>\n      <td>Бежавшая из тюрьмы американка арестована спуст...</td>\n      <td>Женщина, в течение 32 лет скрывавшаяся от поли...</td>\n      <td>Россия</td>\n      <td>Все</td>\n      <td>2008-05-01</td>\n    </tr>\n    <tr>\n      <th>227575</th>\n      <td>https://lenta.ru/news/2008/05/01/gisele/</td>\n      <td>Жизель Бюндхен не уступила первое место в рейт...</td>\n      <td>Бразильская топ-модель Жизель Бюндхен (Gisele ...</td>\n      <td>Из жизни</td>\n      <td>Все</td>\n      <td>2008-05-01</td>\n    </tr>\n    <tr>\n      <th>227576</th>\n      <td>https://lenta.ru/news/2008/05/01/raf/</td>\n      <td>За год британские ВВС более 20 раз вылетали на...</td>\n      <td>Самолеты ВВС Великобритании за последний год н...</td>\n      <td>Мир</td>\n      <td>Все</td>\n      <td>2008-05-01</td>\n    </tr>\n    <tr>\n      <th>...</th>\n      <td>...</td>\n      <td>...</td>\n      <td>...</td>\n      <td>...</td>\n      <td>...</td>\n      <td>...</td>\n    </tr>\n    <tr>\n      <th>244016</th>\n      <td>https://lenta.ru/news/2008/08/31/tennis/</td>\n      <td>Динара Сафина вышла в 1/8 финала Открытого чем...</td>\n      <td>Россиянка Динара Сафина в третьем раунде Откры...</td>\n      <td>Спорт</td>\n      <td>Все</td>\n      <td>2008-08-31</td>\n    </tr>\n    <tr>\n      <th>244017</th>\n      <td>https://lenta.ru/news/2008/08/31/quake/</td>\n      <td>На Байкале произошло землетрясение в 6,4 балла</td>\n      <td>В районе озера Байкал в ночь на воскресенье пр...</td>\n      <td>Мир</td>\n      <td>Все</td>\n      <td>2008-08-31</td>\n    </tr>\n    <tr>\n      <th>244018</th>\n      <td>https://lenta.ru/news/2008/08/31/two/</td>\n      <td>В Кабардино-Балкарии застрелили двух милиционеров</td>\n      <td>В Кабардино-Балкарии убиты два милиционера, ещ...</td>\n      <td>Россия</td>\n      <td>Все</td>\n      <td>2008-08-31</td>\n    </tr>\n    <tr>\n      <th>244019</th>\n      <td>https://lenta.ru/news/2008/08/31/pigeon/</td>\n      <td>Британцы собирались использовать голубей для д...</td>\n      <td>Британская разведывательная служба MI5 планиро...</td>\n      <td>Мир</td>\n      <td>Все</td>\n      <td>2008-08-31</td>\n    </tr>\n    <tr>\n      <th>244020</th>\n      <td>https://lenta.ru/news/2008/08/31/mex/</td>\n      <td>В Мексике прошли акции протеста против разгула...</td>\n      <td>В Мексике в субботу, 31 августа, прошли акции ...</td>\n      <td>Мир</td>\n      <td>Все</td>\n      <td>2008-08-31</td>\n    </tr>\n  </tbody>\n</table>\n<p>16449 rows × 6 columns</p>\n</div>"
     },
     "metadata": {}
    }
   ]
  },
  {
   "cell_type": "markdown",
   "source": "Посмотрим, какие макротемы содержатся в датасете. В ходе исследования будут выделены более конкретные темы.",
   "metadata": {}
  },
  {
   "cell_type": "code",
   "source": [
    "df_lenta_short.groupby(\"topic\").count().index"
   ],
   "metadata": {
    "execution": {
     "iopub.status.busy": "2023-04-05T12:33:34.674244Z",
     "iopub.execute_input": "2023-04-05T12:33:34.675073Z",
     "iopub.status.idle": "2023-04-05T12:33:34.697277Z",
     "shell.execute_reply.started": "2023-04-05T12:33:34.675025Z",
     "shell.execute_reply": "2023-04-05T12:33:34.696013Z"
    },
    "trusted": true
   },
   "execution_count": 19,
   "outputs": [
    {
     "execution_count": 19,
     "output_type": "execute_result",
     "data": {
      "text/plain": "Index(['Бывший СССР', 'Дом', 'Из жизни', 'Интернет и СМИ', 'Культура', 'Мир',\n       'Наука и техника', 'Россия', 'Силовые структуры', 'Спорт', 'Экономика'],\n      dtype='object', name='topic')"
     },
     "metadata": {}
    }
   ]
  },
  {
   "cell_type": "markdown",
   "source": "Далее оставим в датасете необходимые данные.",
   "metadata": {}
  },
  {
   "cell_type": "code",
   "source": [
    "df_lenta_raw = pd.DataFrame(df_lenta_short[[\"title\", \"text\", \"topic\", \"tags\"]]).rename(\n",
    "    columns={\"text\": \"raw_text\"}\n",
    ")\n",
    "df_lenta_raw"
   ],
   "metadata": {
    "execution": {
     "iopub.status.busy": "2023-04-05T12:33:37.478652Z",
     "iopub.execute_input": "2023-04-05T12:33:37.480244Z",
     "iopub.status.idle": "2023-04-05T12:33:37.502990Z",
     "shell.execute_reply.started": "2023-04-05T12:33:37.480162Z",
     "shell.execute_reply": "2023-04-05T12:33:37.501300Z"
    },
    "trusted": true
   },
   "execution_count": 20,
   "outputs": [
    {
     "execution_count": 20,
     "output_type": "execute_result",
     "data": {
      "text/plain": "                                                    title  \\\n227572   В Египте загорелся автобус с туристами из России   \n227573  Рядовой-срочник получил \"внезапное\" ранение на...   \n227574  Бежавшая из тюрьмы американка арестована спуст...   \n227575  Жизель Бюндхен не уступила первое место в рейт...   \n227576  За год британские ВВС более 20 раз вылетали на...   \n...                                                   ...   \n244016  Динара Сафина вышла в 1/8 финала Открытого чем...   \n244017     На Байкале произошло землетрясение в 6,4 балла   \n244018  В Кабардино-Балкарии застрелили двух милиционеров   \n244019  Британцы собирались использовать голубей для д...   \n244020  В Мексике прошли акции протеста против разгула...   \n\n                                                 raw_text     topic tags  \n227572  По меньшей мере семь иностранных туристов поги...       Мир  Все  \n227573  В ночь на четверг в Назрановском районе Ингуше...    Россия  Все  \n227574  Женщина, в течение 32 лет скрывавшаяся от поли...    Россия  Все  \n227575  Бразильская топ-модель Жизель Бюндхен (Gisele ...  Из жизни  Все  \n227576  Самолеты ВВС Великобритании за последний год н...       Мир  Все  \n...                                                   ...       ...  ...  \n244016  Россиянка Динара Сафина в третьем раунде Откры...     Спорт  Все  \n244017  В районе озера Байкал в ночь на воскресенье пр...       Мир  Все  \n244018  В Кабардино-Балкарии убиты два милиционера, ещ...    Россия  Все  \n244019  Британская разведывательная служба MI5 планиро...       Мир  Все  \n244020  В Мексике в субботу, 31 августа, прошли акции ...       Мир  Все  \n\n[16449 rows x 4 columns]",
      "text/html": "<div>\n<style scoped>\n    .dataframe tbody tr th:only-of-type {\n        vertical-align: middle;\n    }\n\n    .dataframe tbody tr th {\n        vertical-align: top;\n    }\n\n    .dataframe thead th {\n        text-align: right;\n    }\n</style>\n<table border=\"1\" class=\"dataframe\">\n  <thead>\n    <tr style=\"text-align: right;\">\n      <th></th>\n      <th>title</th>\n      <th>raw_text</th>\n      <th>topic</th>\n      <th>tags</th>\n    </tr>\n  </thead>\n  <tbody>\n    <tr>\n      <th>227572</th>\n      <td>В Египте загорелся автобус с туристами из России</td>\n      <td>По меньшей мере семь иностранных туристов поги...</td>\n      <td>Мир</td>\n      <td>Все</td>\n    </tr>\n    <tr>\n      <th>227573</th>\n      <td>Рядовой-срочник получил \"внезапное\" ранение на...</td>\n      <td>В ночь на четверг в Назрановском районе Ингуше...</td>\n      <td>Россия</td>\n      <td>Все</td>\n    </tr>\n    <tr>\n      <th>227574</th>\n      <td>Бежавшая из тюрьмы американка арестована спуст...</td>\n      <td>Женщина, в течение 32 лет скрывавшаяся от поли...</td>\n      <td>Россия</td>\n      <td>Все</td>\n    </tr>\n    <tr>\n      <th>227575</th>\n      <td>Жизель Бюндхен не уступила первое место в рейт...</td>\n      <td>Бразильская топ-модель Жизель Бюндхен (Gisele ...</td>\n      <td>Из жизни</td>\n      <td>Все</td>\n    </tr>\n    <tr>\n      <th>227576</th>\n      <td>За год британские ВВС более 20 раз вылетали на...</td>\n      <td>Самолеты ВВС Великобритании за последний год н...</td>\n      <td>Мир</td>\n      <td>Все</td>\n    </tr>\n    <tr>\n      <th>...</th>\n      <td>...</td>\n      <td>...</td>\n      <td>...</td>\n      <td>...</td>\n    </tr>\n    <tr>\n      <th>244016</th>\n      <td>Динара Сафина вышла в 1/8 финала Открытого чем...</td>\n      <td>Россиянка Динара Сафина в третьем раунде Откры...</td>\n      <td>Спорт</td>\n      <td>Все</td>\n    </tr>\n    <tr>\n      <th>244017</th>\n      <td>На Байкале произошло землетрясение в 6,4 балла</td>\n      <td>В районе озера Байкал в ночь на воскресенье пр...</td>\n      <td>Мир</td>\n      <td>Все</td>\n    </tr>\n    <tr>\n      <th>244018</th>\n      <td>В Кабардино-Балкарии застрелили двух милиционеров</td>\n      <td>В Кабардино-Балкарии убиты два милиционера, ещ...</td>\n      <td>Россия</td>\n      <td>Все</td>\n    </tr>\n    <tr>\n      <th>244019</th>\n      <td>Британцы собирались использовать голубей для д...</td>\n      <td>Британская разведывательная служба MI5 планиро...</td>\n      <td>Мир</td>\n      <td>Все</td>\n    </tr>\n    <tr>\n      <th>244020</th>\n      <td>В Мексике прошли акции протеста против разгула...</td>\n      <td>В Мексике в субботу, 31 августа, прошли акции ...</td>\n      <td>Мир</td>\n      <td>Все</td>\n    </tr>\n  </tbody>\n</table>\n<p>16449 rows × 4 columns</p>\n</div>"
     },
     "metadata": {}
    }
   ]
  },
  {
   "cell_type": "markdown",
   "source": "Переводим в формат, необходимый для работы с TopicNet. Выделим две модальности:\n\n- `lemmatized` отвечает за слова в тексте и заголовке в начальной форме\n- `bigram` отвечает за биграммы в тексте",
   "metadata": {}
  },
  {
   "cell_type": "code",
   "source": [
    "def vowpalize_sequence(sequence):\n",
    "    \"\"\"\n",
    "    Переводит последовательность в формат из Vowpal Wabbit.\n",
    "\n",
    "    Аргумент:\n",
    "    sequence - последовательность\n",
    "\n",
    "    Возвращает:\n",
    "    res - результат преобразования\n",
    "    \"\"\"\n",
    "    word_freq = Counter(sequence)\n",
    "    del word_freq[\"\"]\n",
    "\n",
    "    res = \"\"\n",
    "    for word in word_freq:\n",
    "        res += word + \":\" + str(word_freq[word]) + \" \"\n",
    "\n",
    "    return res\n",
    "\n",
    "\n",
    "def process_data(dataframe, vocab_size=16000):\n",
    "    \"\"\"\n",
    "    Отвечает за предобработку набора данных для\n",
    "    дальнейшего использования в TopicNet.\n",
    "\n",
    "    Аргумент:\n",
    "    dataframe - данные, содержащие колонку raw_text\n",
    "    vocab_size - размер словаря биграмм\n",
    "\n",
    "    Результат:\n",
    "    dataframe - предобработанные данные\n",
    "    \"\"\"\n",
    "    tokenized_text = []  # инициализируем список\n",
    "\n",
    "    # разбиваем на токены\n",
    "    for _, data in tqdm(dataframe.iterrows()):\n",
    "        tokens = [\n",
    "            token\n",
    "            for token in nltk.wordpunct_tokenize(data.title.lower())\n",
    "            if len(token) > 1\n",
    "        ]\n",
    "        tokens.extend(\n",
    "            [\n",
    "                token\n",
    "                for token in nltk.wordpunct_tokenize(data.raw_text.lower())\n",
    "                if len(token) > 1\n",
    "            ]\n",
    "        )\n",
    "        tokenized_text.append(tokens)\n",
    "\n",
    "    # запоминаем токенизацию\n",
    "    dataframe[\"tokenized\"] = tokenized_text\n",
    "\n",
    "    # список стопслов\n",
    "    stop = set(stopwords.words(\"russian\"))\n",
    "\n",
    "    # применяем лемматизацию, используем PyMorphy2\n",
    "    lemmatized_text = []\n",
    "    morph = MorphAnalyzer()\n",
    "\n",
    "    # переводим в нормальную форму\n",
    "    for text in tqdm(dataframe[\"tokenized\"].values):\n",
    "        lemmatized = [morph.parse(word)[0].normal_form for word in text]\n",
    "        lemmatized = [\n",
    "            word for word in lemmatized if word not in stop and word.isalpha()\n",
    "        ]\n",
    "        lemmatized_text.append(lemmatized)\n",
    "\n",
    "    dataframe[\"lemmatized\"] = lemmatized_text\n",
    "\n",
    "    # выбираем лучшие биграммы\n",
    "    bigram_measures = BigramAssocMeasures()\n",
    "    finder = BigramCollocationFinder.from_documents(dataframe[\"lemmatized\"])\n",
    "    finder.apply_freq_filter(5)\n",
    "    set_dict = set(finder.nbest(bigram_measures.pmi, vocab_size))\n",
    "    documents = dataframe[\"lemmatized\"]\n",
    "    bigrams = []\n",
    "\n",
    "    # добавляем биграммы\n",
    "    for doc in tqdm(documents):\n",
    "        entry = [\n",
    "            \"_\".join([word_first, word_second])\n",
    "            for word_first, word_second in zip(doc[:-1], doc[1:])\n",
    "            if (word_first, word_second) in set_dict\n",
    "        ]\n",
    "        bigrams.append(entry)\n",
    "\n",
    "    dataframe[\"bigram\"] = bigrams\n",
    "\n",
    "    # добавялем текст в формате из Vowpal Wabbit\n",
    "    vw_text = []\n",
    "\n",
    "    for index, data in tqdm(dataframe.iterrows()):\n",
    "        vw_string = \"\"\n",
    "        doc_id = str(index)\n",
    "        lemmatized = \"@lemmatized \" + vowpalize_sequence(data.lemmatized)\n",
    "        bigram = \"@bigram \" + vowpalize_sequence(data.bigram)\n",
    "        vw_string = \" |\".join([doc_id, lemmatized, bigram])\n",
    "        vw_text.append(vw_string)\n",
    "\n",
    "    dataframe[\"vw_text\"] = vw_text\n",
    "\n",
    "    return dataframe"
   ],
   "metadata": {
    "execution": {
     "iopub.status.busy": "2023-04-05T11:35:33.252559Z",
     "iopub.execute_input": "2023-04-05T11:35:33.253032Z",
     "iopub.status.idle": "2023-04-05T11:35:33.271459Z",
     "shell.execute_reply.started": "2023-04-05T11:35:33.252981Z",
     "shell.execute_reply": "2023-04-05T11:35:33.270074Z"
    },
    "trusted": true
   },
   "execution_count": 8,
   "outputs": []
  },
  {
   "cell_type": "markdown",
   "source": "Ограничим размер словаря в $10 \\ 000$ позиций.",
   "metadata": {}
  },
  {
   "cell_type": "code",
   "source": [
    "df_lenta_vw = process_data(df_lenta_raw, 10000)\n",
    "df_lenta_vw"
   ],
   "metadata": {
    "execution": {
     "iopub.status.busy": "2023-04-05T12:33:45.938365Z",
     "iopub.execute_input": "2023-04-05T12:33:45.938789Z",
     "iopub.status.idle": "2023-04-05T12:45:10.201756Z",
     "shell.execute_reply.started": "2023-04-05T12:33:45.938756Z",
     "shell.execute_reply": "2023-04-05T12:45:10.200194Z"
    },
    "trusted": true
   },
   "execution_count": 21,
   "outputs": [
    {
     "name": "stderr",
     "text": "16449it [00:03, 4126.79it/s]\n/opt/conda/lib/python3.7/site-packages/pymorphy2/units/base.py:70: DeprecationWarning:\n\ninspect.getargspec() is deprecated since Python 3.0, use inspect.signature() or inspect.getfullargspec()\n\n100%|██████████| 16449/16449 [11:08<00:00, 24.62it/s]\n100%|██████████| 16449/16449 [00:00<00:00, 24945.19it/s]\n16449it [00:03, 4492.36it/s]\n",
     "output_type": "stream"
    },
    {
     "execution_count": 21,
     "output_type": "execute_result",
     "data": {
      "text/plain": "                                                    title  \\\n227572   В Египте загорелся автобус с туристами из России   \n227573  Рядовой-срочник получил \"внезапное\" ранение на...   \n227574  Бежавшая из тюрьмы американка арестована спуст...   \n227575  Жизель Бюндхен не уступила первое место в рейт...   \n227576  За год британские ВВС более 20 раз вылетали на...   \n...                                                   ...   \n244016  Динара Сафина вышла в 1/8 финала Открытого чем...   \n244017     На Байкале произошло землетрясение в 6,4 балла   \n244018  В Кабардино-Балкарии застрелили двух милиционеров   \n244019  Британцы собирались использовать голубей для д...   \n244020  В Мексике прошли акции протеста против разгула...   \n\n                                                 raw_text     topic tags  \\\n227572  По меньшей мере семь иностранных туристов поги...       Мир  Все   \n227573  В ночь на четверг в Назрановском районе Ингуше...    Россия  Все   \n227574  Женщина, в течение 32 лет скрывавшаяся от поли...    Россия  Все   \n227575  Бразильская топ-модель Жизель Бюндхен (Gisele ...  Из жизни  Все   \n227576  Самолеты ВВС Великобритании за последний год н...       Мир  Все   \n...                                                   ...       ...  ...   \n244016  Россиянка Динара Сафина в третьем раунде Откры...     Спорт  Все   \n244017  В районе озера Байкал в ночь на воскресенье пр...       Мир  Все   \n244018  В Кабардино-Балкарии убиты два милиционера, ещ...    Россия  Все   \n244019  Британская разведывательная служба MI5 планиро...       Мир  Все   \n244020  В Мексике в субботу, 31 августа, прошли акции ...       Мир  Все   \n\n                                                tokenized  \\\n227572  [египте, загорелся, автобус, туристами, из, ро...   \n227573  [рядовой, срочник, получил, внезапное, ранение...   \n227574  [бежавшая, из, тюрьмы, американка, арестована,...   \n227575  [жизель, бюндхен, не, уступила, первое, место,...   \n227576  [за, год, британские, ввс, более, 20, раз, выл...   \n...                                                   ...   \n244016  [динара, сафина, вышла, финала, открытого, чем...   \n244017  [на, байкале, произошло, землетрясение, балла,...   \n244018  [кабардино, балкарии, застрелили, двух, милици...   \n244019  [британцы, собирались, использовать, голубей, ...   \n244020  [мексике, прошли, акции, протеста, против, раз...   \n\n                                               lemmatized  \\\n227572  [египет, загореться, автобус, турист, россия, ...   \n227573  [рядовой, срочник, получить, внезапный, ранени...   \n227574  [бежать, тюрьма, американка, арестовать, спуст...   \n227575  [жизель, бюндхен, уступить, первый, место, рей...   \n227576  [год, британский, ввс, вылетать, навстречу, бо...   \n...                                                   ...   \n244016  [динар, сафин, выйти, финал, открытый, чемпион...   \n244017  [байкал, произойти, землетрясение, балл, район...   \n244018  [кабардино, балкария, застрелить, милиционер, ...   \n244019  [британец, собираться, использовать, голубеть,...   \n244020  [мексика, пройти, акция, протест, против, разг...   \n\n                                                   bigram  \\\n227572  [малый_мера, травма_ожог, associated_press, пе...   \n227573  [назрановский_район, северный_кавказ, пост_дпс...   \n227574  [сан_диего, досрочный_освобождение, выйти_заму...   \n227575  [строчка_рейтинг, самый_высокооплачиваемый, жу...   \n227576  [bbc_news, вооружённый_сила, воздушный_простра...   \n...                                                   ...   \n244016  [динар_сафин, россиянка_динар, динар_сафин, те...   \n244017  [озеро_байкал, эпицентр_землетрясение, населит...   \n244018  [кабардино_балкария, кабардино_балкария, право...   \n244019  [архивный_документ, press_association, bbc_new...   \n244020  [малый_мера, эдгар_мильян, мильян_гомес, премь...   \n\n                                                  vw_text  \n227572  227572 |@lemmatized египет:3 загореться:2 авто...  \n227573  227573 |@lemmatized рядовой:3 срочник:3 получи...  \n227574  227574 |@lemmatized бежать:1 тюрьма:4 американ...  \n227575  227575 |@lemmatized жизель:2 бюндхен:4 уступит...  \n227576  227576 |@lemmatized год:5 британский:3 ввс:4 в...  \n...                                                   ...  \n244016  244016 |@lemmatized динар:2 сафин:3 выйти:1 фи...  \n244017  244017 |@lemmatized байкал:3 произойти:2 земле...  \n244018  244018 |@lemmatized кабардино:2 балкария:2 зас...  \n244019  244019 |@lemmatized британец:4 собираться:2 ис...  \n244020  244020 |@lemmatized мексика:4 пройти:3 акция:3...  \n\n[16449 rows x 8 columns]",
      "text/html": "<div>\n<style scoped>\n    .dataframe tbody tr th:only-of-type {\n        vertical-align: middle;\n    }\n\n    .dataframe tbody tr th {\n        vertical-align: top;\n    }\n\n    .dataframe thead th {\n        text-align: right;\n    }\n</style>\n<table border=\"1\" class=\"dataframe\">\n  <thead>\n    <tr style=\"text-align: right;\">\n      <th></th>\n      <th>title</th>\n      <th>raw_text</th>\n      <th>topic</th>\n      <th>tags</th>\n      <th>tokenized</th>\n      <th>lemmatized</th>\n      <th>bigram</th>\n      <th>vw_text</th>\n    </tr>\n  </thead>\n  <tbody>\n    <tr>\n      <th>227572</th>\n      <td>В Египте загорелся автобус с туристами из России</td>\n      <td>По меньшей мере семь иностранных туристов поги...</td>\n      <td>Мир</td>\n      <td>Все</td>\n      <td>[египте, загорелся, автобус, туристами, из, ро...</td>\n      <td>[египет, загореться, автобус, турист, россия, ...</td>\n      <td>[малый_мера, травма_ожог, associated_press, пе...</td>\n      <td>227572 |@lemmatized египет:3 загореться:2 авто...</td>\n    </tr>\n    <tr>\n      <th>227573</th>\n      <td>Рядовой-срочник получил \"внезапное\" ранение на...</td>\n      <td>В ночь на четверг в Назрановском районе Ингуше...</td>\n      <td>Россия</td>\n      <td>Все</td>\n      <td>[рядовой, срочник, получил, внезапное, ранение...</td>\n      <td>[рядовой, срочник, получить, внезапный, ранени...</td>\n      <td>[назрановский_район, северный_кавказ, пост_дпс...</td>\n      <td>227573 |@lemmatized рядовой:3 срочник:3 получи...</td>\n    </tr>\n    <tr>\n      <th>227574</th>\n      <td>Бежавшая из тюрьмы американка арестована спуст...</td>\n      <td>Женщина, в течение 32 лет скрывавшаяся от поли...</td>\n      <td>Россия</td>\n      <td>Все</td>\n      <td>[бежавшая, из, тюрьмы, американка, арестована,...</td>\n      <td>[бежать, тюрьма, американка, арестовать, спуст...</td>\n      <td>[сан_диего, досрочный_освобождение, выйти_заму...</td>\n      <td>227574 |@lemmatized бежать:1 тюрьма:4 американ...</td>\n    </tr>\n    <tr>\n      <th>227575</th>\n      <td>Жизель Бюндхен не уступила первое место в рейт...</td>\n      <td>Бразильская топ-модель Жизель Бюндхен (Gisele ...</td>\n      <td>Из жизни</td>\n      <td>Все</td>\n      <td>[жизель, бюндхен, не, уступила, первое, место,...</td>\n      <td>[жизель, бюндхен, уступить, первый, место, рей...</td>\n      <td>[строчка_рейтинг, самый_высокооплачиваемый, жу...</td>\n      <td>227575 |@lemmatized жизель:2 бюндхен:4 уступит...</td>\n    </tr>\n    <tr>\n      <th>227576</th>\n      <td>За год британские ВВС более 20 раз вылетали на...</td>\n      <td>Самолеты ВВС Великобритании за последний год н...</td>\n      <td>Мир</td>\n      <td>Все</td>\n      <td>[за, год, британские, ввс, более, 20, раз, выл...</td>\n      <td>[год, британский, ввс, вылетать, навстречу, бо...</td>\n      <td>[bbc_news, вооружённый_сила, воздушный_простра...</td>\n      <td>227576 |@lemmatized год:5 британский:3 ввс:4 в...</td>\n    </tr>\n    <tr>\n      <th>...</th>\n      <td>...</td>\n      <td>...</td>\n      <td>...</td>\n      <td>...</td>\n      <td>...</td>\n      <td>...</td>\n      <td>...</td>\n      <td>...</td>\n    </tr>\n    <tr>\n      <th>244016</th>\n      <td>Динара Сафина вышла в 1/8 финала Открытого чем...</td>\n      <td>Россиянка Динара Сафина в третьем раунде Откры...</td>\n      <td>Спорт</td>\n      <td>Все</td>\n      <td>[динара, сафина, вышла, финала, открытого, чем...</td>\n      <td>[динар, сафин, выйти, финал, открытый, чемпион...</td>\n      <td>[динар_сафин, россиянка_динар, динар_сафин, те...</td>\n      <td>244016 |@lemmatized динар:2 сафин:3 выйти:1 фи...</td>\n    </tr>\n    <tr>\n      <th>244017</th>\n      <td>На Байкале произошло землетрясение в 6,4 балла</td>\n      <td>В районе озера Байкал в ночь на воскресенье пр...</td>\n      <td>Мир</td>\n      <td>Все</td>\n      <td>[на, байкале, произошло, землетрясение, балла,...</td>\n      <td>[байкал, произойти, землетрясение, балл, район...</td>\n      <td>[озеро_байкал, эпицентр_землетрясение, населит...</td>\n      <td>244017 |@lemmatized байкал:3 произойти:2 земле...</td>\n    </tr>\n    <tr>\n      <th>244018</th>\n      <td>В Кабардино-Балкарии застрелили двух милиционеров</td>\n      <td>В Кабардино-Балкарии убиты два милиционера, ещ...</td>\n      <td>Россия</td>\n      <td>Все</td>\n      <td>[кабардино, балкарии, застрелили, двух, милици...</td>\n      <td>[кабардино, балкария, застрелить, милиционер, ...</td>\n      <td>[кабардино_балкария, кабардино_балкария, право...</td>\n      <td>244018 |@lemmatized кабардино:2 балкария:2 зас...</td>\n    </tr>\n    <tr>\n      <th>244019</th>\n      <td>Британцы собирались использовать голубей для д...</td>\n      <td>Британская разведывательная служба MI5 планиро...</td>\n      <td>Мир</td>\n      <td>Все</td>\n      <td>[британцы, собирались, использовать, голубей, ...</td>\n      <td>[британец, собираться, использовать, голубеть,...</td>\n      <td>[архивный_документ, press_association, bbc_new...</td>\n      <td>244019 |@lemmatized британец:4 собираться:2 ис...</td>\n    </tr>\n    <tr>\n      <th>244020</th>\n      <td>В Мексике прошли акции протеста против разгула...</td>\n      <td>В Мексике в субботу, 31 августа, прошли акции ...</td>\n      <td>Мир</td>\n      <td>Все</td>\n      <td>[мексике, прошли, акции, протеста, против, раз...</td>\n      <td>[мексика, пройти, акция, протест, против, разг...</td>\n      <td>[малый_мера, эдгар_мильян, мильян_гомес, премь...</td>\n      <td>244020 |@lemmatized мексика:4 пройти:3 акция:3...</td>\n    </tr>\n  </tbody>\n</table>\n<p>16449 rows × 8 columns</p>\n</div>"
     },
     "metadata": {}
    }
   ]
  },
  {
   "cell_type": "markdown",
   "source": "Экспортируем получившийся после предобработки датасет.",
   "metadata": {}
  },
  {
   "cell_type": "code",
   "source": [
    "df_lenta_vw.reset_index().rename(columns={\"index\": \"id\"}).to_csv(\n",
    "    \"lenta_2008_may_aug_preprocessed.csv\"\n",
    ")"
   ],
   "metadata": {
    "execution": {
     "iopub.status.busy": "2023-04-05T12:46:07.275260Z",
     "iopub.execute_input": "2023-04-05T12:46:07.276396Z",
     "iopub.status.idle": "2023-04-05T12:46:10.863856Z",
     "shell.execute_reply.started": "2023-04-05T12:46:07.276349Z",
     "shell.execute_reply": "2023-04-05T12:46:10.862229Z"
    },
    "trusted": true
   },
   "execution_count": 22,
   "outputs": []
  }
 ]
}